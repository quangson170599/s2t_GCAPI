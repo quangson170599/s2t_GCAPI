{
 "cells": [
  {
   "cell_type": "code",
   "execution_count": 11,
   "metadata": {},
   "outputs": [],
   "source": [
    "from google.cloud import speech\n",
    "from google.cloud import storage\n",
    "import wave\n",
    "import io"
   ]
  },
  {
   "cell_type": "code",
   "execution_count": 1,
   "metadata": {},
   "outputs": [],
   "source": [
    "def frame_rate_channel(audio_file_name):\n",
    "    with wave.open(audio_file_name, 'rb') as wave_file:\n",
    "        frame_rate = wave_file.getframerate()\n",
    "        channels = wave_file.getnchannels()\n",
    "        return frame_rate,channels\n",
    "\n",
    "def Config_GGC(sample_rate_hertz = 44100,\n",
    "                audio_channel_count = 1,\n",
    "                model = None,\n",
    "                enable_automatic_punctuation=True):\n",
    "    if model != None:\n",
    "        config_wav_enhanced = speech.RecognitionConfig(\n",
    "            sample_rate_hertz = sample_rate_hertz,\n",
    "            enable_automatic_punctuation=enable_automatic_punctuation,\n",
    "            language_code = 'vi-VN',\n",
    "            audio_channel_count=audio_channel_count,\n",
    "            model = model,\n",
    "        )\n",
    "    else :\n",
    "        config_wav_enhanced = speech.RecognitionConfig(\n",
    "            sample_rate_hertz = sample_rate_hertz,\n",
    "            enable_automatic_punctuation=True,\n",
    "            language_code = 'vi-VN',\n",
    "            audio_channel_count=audio_channel_count\n",
    "        )\n",
    "    return config_wav_enhanced\n",
    "\n",
    "def Config_noPunc(sample_rate_hertz = 44100,\n",
    "                audio_channel_count = 1,\n",
    "                model = None,\n",
    "                enable_automatic_punctuation=True):\n",
    "    if model is not None:\n",
    "        config_wav_enhanced = speech.RecognitionConfig(\n",
    "            sample_rate_hertz = sample_rate_hertz,\n",
    "            language_code = 'vi-VN',\n",
    "            audio_channel_count=audio_channel_count,\n",
    "            model = model,\n",
    "        )\n",
    "    else :\n",
    "        config_wav_enhanced = speech.RecognitionConfig(\n",
    "            sample_rate_hertz = sample_rate_hertz,\n",
    "            language_code = 'vi-VN',\n",
    "            audio_channel_count=audio_channel_count\n",
    "        )\n",
    "    return config_wav_enhanced\n",
    "\n",
    "def is_digit(word):\n",
    "    try:\n",
    "        int(word)\n",
    "        return True\n",
    "    except ValueError:\n",
    "        pass\n",
    "    return False\n",
    "\n",
    "def ConvertDate(text):\n",
    "    month=' tháng '\n",
    "    year=' năm '\n",
    "    for index in range(0,len(text)):\n",
    "        try:\n",
    "            if (text.index(month,index)==index):\n",
    "                dateNum = text[index -1]\n",
    "                monthNum = text[index + len(month)]\n",
    "                if is_digit(dateNum) and is_digit(monthNum):\n",
    "                    text=text[:index] + text[index+len(month)-1:]\n",
    "                    temp = list(text)\n",
    "                    temp[index]='/'\n",
    "                    text = \"\".join(temp)\n",
    "        except Exception as e:\n",
    "            if str(e) in 'substring not found':\n",
    "                pass\n",
    "            else:\n",
    "                raise e\n",
    "        try:\n",
    "            if (text.index(year,index)==index):\n",
    "                monthNum = text[index -1]\n",
    "                yearNum = text[index + len(year)]\n",
    "                if is_digit(monthNum) and is_digit(yearNum):\n",
    "                    text=text[:index] + text[index+len(year)-1:]\n",
    "                    temp = list(text)\n",
    "                    temp[index]='/'\n",
    "                    text = \"\".join(temp)\n",
    "        except Exception as e:\n",
    "            if str(e) in 'substring not found':\n",
    "                pass\n",
    "            else:\n",
    "                raise e\n",
    "    return text\n"
   ]
  },
  {
   "cell_type": "code",
   "execution_count": 2,
   "metadata": {},
   "outputs": [],
   "source": [
    "def Transcribe_Short_Audio(Audio_wav,config_wav_enhanced):\n",
    "    client = speech.SpeechClient()\n",
    "    with io.open(Audio_wav, \"rb\") as audio_file:\n",
    "        content = audio_file.read()\n",
    "\n",
    "    audio = speech.RecognitionAudio(content=content)\n",
    "    # print(type(audio))\n",
    "    \n",
    "    response = client.recognize(config=config_wav_enhanced, audio=audio)\n",
    "    text = []\n",
    "    for i, result in enumerate(response.results):\n",
    "        alternative = result.alternatives[0]\n",
    "        alter=ConvertDate(alternative.transcript+ '\\n')\n",
    "        text.append(alter)\n",
    "    return text"
   ]
  },
  {
   "cell_type": "code",
   "execution_count": 3,
   "metadata": {},
   "outputs": [],
   "source": [
    "import os\n",
    "os.environ['GOOGLE_APPLICATION_CREDENTIALS'] = '../Speech2Text.json'"
   ]
  },
  {
   "cell_type": "code",
   "execution_count": 4,
   "metadata": {},
   "outputs": [
    {
     "data": {
      "text/plain": [
       "'c:\\\\Users\\\\quang\\\\Desktop\\\\chominh\\\\s2t_GCP_Final\\\\Funtion_Task'"
      ]
     },
     "execution_count": 4,
     "metadata": {},
     "output_type": "execute_result"
    }
   ],
   "source": [
    "os.getcwd()"
   ]
  },
  {
   "cell_type": "code",
   "execution_count": 6,
   "metadata": {},
   "outputs": [],
   "source": [
    "path = '../Input/1'\n",
    "path = os.path.abspath(path)"
   ]
  },
  {
   "cell_type": "code",
   "execution_count": 7,
   "metadata": {},
   "outputs": [],
   "source": [
    "def get_frame_rate(audio_file):\n",
    "    rate,channel = frame_rate_channel(audio_file)\n",
    "    config = Config_GGC(sample_rate_hertz=rate,\n",
    "    audio_channel_count=channel)\n",
    "    return config"
   ]
  },
  {
   "cell_type": "code",
   "execution_count": 9,
   "metadata": {},
   "outputs": [
    {
     "data": {
      "text/plain": [
       "'c:\\\\Users\\\\quang\\\\Desktop\\\\chominh\\\\s2t_GCP_Final\\\\Input\\\\1'"
      ]
     },
     "execution_count": 9,
     "metadata": {},
     "output_type": "execute_result"
    }
   ],
   "source": [
    "path"
   ]
  },
  {
   "cell_type": "code",
   "execution_count": 32,
   "metadata": {},
   "outputs": [],
   "source": [
    "from concurrent.futures import ThreadPoolExecutor\n",
    "from threading import current_thread\n",
    "import time\n",
    "\n",
    "threadnum=4\n",
    "def func_thread(path):\n",
    "    config = get_frame_rate(path)\n",
    "    now = time.time()\n",
    "    text = Transcribe_Short_Audio(path, config)\n",
    "    thread = current_thread()\n",
    "    end_time = time.time() - now\n",
    "    x = [thread.name, end_time]\n",
    "    return x\n",
    "\n",
    "def text_multithread(audio_file):\n",
    "    now = time.time()\n",
    "    with ThreadPoolExecutor(threadnum) as executor:\n",
    "        futures = executor.map(func_thread, path)\n",
    "        Qlist = [x for x in futures]\n",
    "    end_time = time.time() - now\n",
    "    print(f\"kết quả threads = {threadnum}\")\n",
    "    full_time = 0\n",
    "    for x in Qlist:\n",
    "        print(x[0] + ' || ' + x[1])\n",
    "        full_time += x[1]\n",
    "    print(f'Số lần đưa lên GGC : {len(Qlist)}, multi time: {end_time}, full time: {full_time}')"
   ]
  },
  {
   "cell_type": "code",
   "execution_count": 30,
   "metadata": {},
   "outputs": [
    {
     "data": {
      "text/plain": [
       "'c:\\\\Users\\\\quang\\\\Desktop\\\\chominh\\\\s2t_GCP_Final\\\\Input\\\\1\\\\file_1.wav'"
      ]
     },
     "execution_count": 30,
     "metadata": {},
     "output_type": "execute_result"
    }
   ],
   "source": [
    "count = 1\n",
    "path = path + '\\\\' + 'file_' + str(count) + '.wav'\n",
    "path"
   ]
  },
  {
   "cell_type": "code",
   "execution_count": 33,
   "metadata": {},
   "outputs": [
    {
     "ename": "FileNotFoundError",
     "evalue": "[Errno 2] No such file or directory: 'c'",
     "output_type": "error",
     "traceback": [
      "\u001b[1;31m---------------------------------------------------------------------------\u001b[0m",
      "\u001b[1;31mFileNotFoundError\u001b[0m                         Traceback (most recent call last)",
      "\u001b[1;32mc:\\Users\\quang\\Desktop\\chominh\\s2t_GCP_Final\\Funtion_Task\\test_thread.ipynb Cell 11\u001b[0m in \u001b[0;36m<cell line: 1>\u001b[1;34m()\u001b[0m\n\u001b[1;32m----> <a href='vscode-notebook-cell:/c%3A/Users/quang/Desktop/chominh/s2t_GCP_Final/Funtion_Task/test_thread.ipynb#ch0000010?line=0'>1</a>\u001b[0m text_multithread(path)\n",
      "\u001b[1;32mc:\\Users\\quang\\Desktop\\chominh\\s2t_GCP_Final\\Funtion_Task\\test_thread.ipynb Cell 11\u001b[0m in \u001b[0;36mtext_multithread\u001b[1;34m(audio_file)\u001b[0m\n\u001b[0;32m     <a href='vscode-notebook-cell:/c%3A/Users/quang/Desktop/chominh/s2t_GCP_Final/Funtion_Task/test_thread.ipynb#ch0000010?line=16'>17</a>\u001b[0m \u001b[39mwith\u001b[39;00m ThreadPoolExecutor(threadnum) \u001b[39mas\u001b[39;00m executor:\n\u001b[0;32m     <a href='vscode-notebook-cell:/c%3A/Users/quang/Desktop/chominh/s2t_GCP_Final/Funtion_Task/test_thread.ipynb#ch0000010?line=17'>18</a>\u001b[0m     futures \u001b[39m=\u001b[39m executor\u001b[39m.\u001b[39mmap(func_thread, path)\n\u001b[1;32m---> <a href='vscode-notebook-cell:/c%3A/Users/quang/Desktop/chominh/s2t_GCP_Final/Funtion_Task/test_thread.ipynb#ch0000010?line=18'>19</a>\u001b[0m     Qlist \u001b[39m=\u001b[39m [x \u001b[39mfor\u001b[39;00m x \u001b[39min\u001b[39;00m futures]\n\u001b[0;32m     <a href='vscode-notebook-cell:/c%3A/Users/quang/Desktop/chominh/s2t_GCP_Final/Funtion_Task/test_thread.ipynb#ch0000010?line=19'>20</a>\u001b[0m end_time \u001b[39m=\u001b[39m time\u001b[39m.\u001b[39mtime() \u001b[39m-\u001b[39m now\n\u001b[0;32m     <a href='vscode-notebook-cell:/c%3A/Users/quang/Desktop/chominh/s2t_GCP_Final/Funtion_Task/test_thread.ipynb#ch0000010?line=20'>21</a>\u001b[0m \u001b[39mprint\u001b[39m(\u001b[39mf\u001b[39m\u001b[39m\"\u001b[39m\u001b[39mkết quả threads = \u001b[39m\u001b[39m{\u001b[39;00mthreadnum\u001b[39m}\u001b[39;00m\u001b[39m\"\u001b[39m)\n",
      "\u001b[1;32mc:\\Users\\quang\\Desktop\\chominh\\s2t_GCP_Final\\Funtion_Task\\test_thread.ipynb Cell 11\u001b[0m in \u001b[0;36m<listcomp>\u001b[1;34m(.0)\u001b[0m\n\u001b[0;32m     <a href='vscode-notebook-cell:/c%3A/Users/quang/Desktop/chominh/s2t_GCP_Final/Funtion_Task/test_thread.ipynb#ch0000010?line=16'>17</a>\u001b[0m \u001b[39mwith\u001b[39;00m ThreadPoolExecutor(threadnum) \u001b[39mas\u001b[39;00m executor:\n\u001b[0;32m     <a href='vscode-notebook-cell:/c%3A/Users/quang/Desktop/chominh/s2t_GCP_Final/Funtion_Task/test_thread.ipynb#ch0000010?line=17'>18</a>\u001b[0m     futures \u001b[39m=\u001b[39m executor\u001b[39m.\u001b[39mmap(func_thread, path)\n\u001b[1;32m---> <a href='vscode-notebook-cell:/c%3A/Users/quang/Desktop/chominh/s2t_GCP_Final/Funtion_Task/test_thread.ipynb#ch0000010?line=18'>19</a>\u001b[0m     Qlist \u001b[39m=\u001b[39m [x \u001b[39mfor\u001b[39;00m x \u001b[39min\u001b[39;00m futures]\n\u001b[0;32m     <a href='vscode-notebook-cell:/c%3A/Users/quang/Desktop/chominh/s2t_GCP_Final/Funtion_Task/test_thread.ipynb#ch0000010?line=19'>20</a>\u001b[0m end_time \u001b[39m=\u001b[39m time\u001b[39m.\u001b[39mtime() \u001b[39m-\u001b[39m now\n\u001b[0;32m     <a href='vscode-notebook-cell:/c%3A/Users/quang/Desktop/chominh/s2t_GCP_Final/Funtion_Task/test_thread.ipynb#ch0000010?line=20'>21</a>\u001b[0m \u001b[39mprint\u001b[39m(\u001b[39mf\u001b[39m\u001b[39m\"\u001b[39m\u001b[39mkết quả threads = \u001b[39m\u001b[39m{\u001b[39;00mthreadnum\u001b[39m}\u001b[39;00m\u001b[39m\"\u001b[39m)\n",
      "File \u001b[1;32mc:\\Users\\quang\\anaconda3\\envs\\tf\\lib\\concurrent\\futures\\_base.py:609\u001b[0m, in \u001b[0;36mExecutor.map.<locals>.result_iterator\u001b[1;34m()\u001b[0m\n\u001b[0;32m    606\u001b[0m \u001b[39mwhile\u001b[39;00m fs:\n\u001b[0;32m    607\u001b[0m     \u001b[39m# Careful not to keep a reference to the popped future\u001b[39;00m\n\u001b[0;32m    608\u001b[0m     \u001b[39mif\u001b[39;00m timeout \u001b[39mis\u001b[39;00m \u001b[39mNone\u001b[39;00m:\n\u001b[1;32m--> 609\u001b[0m         \u001b[39myield\u001b[39;00m fs\u001b[39m.\u001b[39;49mpop()\u001b[39m.\u001b[39;49mresult()\n\u001b[0;32m    610\u001b[0m     \u001b[39melse\u001b[39;00m:\n\u001b[0;32m    611\u001b[0m         \u001b[39myield\u001b[39;00m fs\u001b[39m.\u001b[39mpop()\u001b[39m.\u001b[39mresult(end_time \u001b[39m-\u001b[39m time\u001b[39m.\u001b[39mmonotonic())\n",
      "File \u001b[1;32mc:\\Users\\quang\\anaconda3\\envs\\tf\\lib\\concurrent\\futures\\_base.py:439\u001b[0m, in \u001b[0;36mFuture.result\u001b[1;34m(self, timeout)\u001b[0m\n\u001b[0;32m    437\u001b[0m     \u001b[39mraise\u001b[39;00m CancelledError()\n\u001b[0;32m    438\u001b[0m \u001b[39melif\u001b[39;00m \u001b[39mself\u001b[39m\u001b[39m.\u001b[39m_state \u001b[39m==\u001b[39m FINISHED:\n\u001b[1;32m--> 439\u001b[0m     \u001b[39mreturn\u001b[39;00m \u001b[39mself\u001b[39;49m\u001b[39m.\u001b[39;49m__get_result()\n\u001b[0;32m    441\u001b[0m \u001b[39mself\u001b[39m\u001b[39m.\u001b[39m_condition\u001b[39m.\u001b[39mwait(timeout)\n\u001b[0;32m    443\u001b[0m \u001b[39mif\u001b[39;00m \u001b[39mself\u001b[39m\u001b[39m.\u001b[39m_state \u001b[39min\u001b[39;00m [CANCELLED, CANCELLED_AND_NOTIFIED]:\n",
      "File \u001b[1;32mc:\\Users\\quang\\anaconda3\\envs\\tf\\lib\\concurrent\\futures\\_base.py:391\u001b[0m, in \u001b[0;36mFuture.__get_result\u001b[1;34m(self)\u001b[0m\n\u001b[0;32m    389\u001b[0m \u001b[39mif\u001b[39;00m \u001b[39mself\u001b[39m\u001b[39m.\u001b[39m_exception:\n\u001b[0;32m    390\u001b[0m     \u001b[39mtry\u001b[39;00m:\n\u001b[1;32m--> 391\u001b[0m         \u001b[39mraise\u001b[39;00m \u001b[39mself\u001b[39m\u001b[39m.\u001b[39m_exception\n\u001b[0;32m    392\u001b[0m     \u001b[39mfinally\u001b[39;00m:\n\u001b[0;32m    393\u001b[0m         \u001b[39m# Break a reference cycle with the exception in self._exception\u001b[39;00m\n\u001b[0;32m    394\u001b[0m         \u001b[39mself\u001b[39m \u001b[39m=\u001b[39m \u001b[39mNone\u001b[39;00m\n",
      "File \u001b[1;32mc:\\Users\\quang\\anaconda3\\envs\\tf\\lib\\concurrent\\futures\\thread.py:58\u001b[0m, in \u001b[0;36m_WorkItem.run\u001b[1;34m(self)\u001b[0m\n\u001b[0;32m     55\u001b[0m     \u001b[39mreturn\u001b[39;00m\n\u001b[0;32m     57\u001b[0m \u001b[39mtry\u001b[39;00m:\n\u001b[1;32m---> 58\u001b[0m     result \u001b[39m=\u001b[39m \u001b[39mself\u001b[39m\u001b[39m.\u001b[39mfn(\u001b[39m*\u001b[39m\u001b[39mself\u001b[39m\u001b[39m.\u001b[39margs, \u001b[39m*\u001b[39m\u001b[39m*\u001b[39m\u001b[39mself\u001b[39m\u001b[39m.\u001b[39mkwargs)\n\u001b[0;32m     59\u001b[0m \u001b[39mexcept\u001b[39;00m \u001b[39mBaseException\u001b[39;00m \u001b[39mas\u001b[39;00m exc:\n\u001b[0;32m     60\u001b[0m     \u001b[39mself\u001b[39m\u001b[39m.\u001b[39mfuture\u001b[39m.\u001b[39mset_exception(exc)\n",
      "\u001b[1;32mc:\\Users\\quang\\Desktop\\chominh\\s2t_GCP_Final\\Funtion_Task\\test_thread.ipynb Cell 11\u001b[0m in \u001b[0;36mfunc_thread\u001b[1;34m(path)\u001b[0m\n\u001b[0;32m      <a href='vscode-notebook-cell:/c%3A/Users/quang/Desktop/chominh/s2t_GCP_Final/Funtion_Task/test_thread.ipynb#ch0000010?line=5'>6</a>\u001b[0m \u001b[39mdef\u001b[39;00m \u001b[39mfunc_thread\u001b[39m(path):\n\u001b[1;32m----> <a href='vscode-notebook-cell:/c%3A/Users/quang/Desktop/chominh/s2t_GCP_Final/Funtion_Task/test_thread.ipynb#ch0000010?line=6'>7</a>\u001b[0m     config \u001b[39m=\u001b[39m get_frame_rate(path)\n\u001b[0;32m      <a href='vscode-notebook-cell:/c%3A/Users/quang/Desktop/chominh/s2t_GCP_Final/Funtion_Task/test_thread.ipynb#ch0000010?line=7'>8</a>\u001b[0m     now \u001b[39m=\u001b[39m time\u001b[39m.\u001b[39mtime()\n\u001b[0;32m      <a href='vscode-notebook-cell:/c%3A/Users/quang/Desktop/chominh/s2t_GCP_Final/Funtion_Task/test_thread.ipynb#ch0000010?line=8'>9</a>\u001b[0m     text \u001b[39m=\u001b[39m Transcribe_Short_Audio(path, config)\n",
      "\u001b[1;32mc:\\Users\\quang\\Desktop\\chominh\\s2t_GCP_Final\\Funtion_Task\\test_thread.ipynb Cell 11\u001b[0m in \u001b[0;36mget_frame_rate\u001b[1;34m(audio_file)\u001b[0m\n\u001b[0;32m      <a href='vscode-notebook-cell:/c%3A/Users/quang/Desktop/chominh/s2t_GCP_Final/Funtion_Task/test_thread.ipynb#ch0000010?line=0'>1</a>\u001b[0m \u001b[39mdef\u001b[39;00m \u001b[39mget_frame_rate\u001b[39m(audio_file):\n\u001b[1;32m----> <a href='vscode-notebook-cell:/c%3A/Users/quang/Desktop/chominh/s2t_GCP_Final/Funtion_Task/test_thread.ipynb#ch0000010?line=1'>2</a>\u001b[0m     rate,channel \u001b[39m=\u001b[39m frame_rate_channel(audio_file)\n\u001b[0;32m      <a href='vscode-notebook-cell:/c%3A/Users/quang/Desktop/chominh/s2t_GCP_Final/Funtion_Task/test_thread.ipynb#ch0000010?line=2'>3</a>\u001b[0m     config \u001b[39m=\u001b[39m Config_GGC(sample_rate_hertz\u001b[39m=\u001b[39mrate,\n\u001b[0;32m      <a href='vscode-notebook-cell:/c%3A/Users/quang/Desktop/chominh/s2t_GCP_Final/Funtion_Task/test_thread.ipynb#ch0000010?line=3'>4</a>\u001b[0m     audio_channel_count\u001b[39m=\u001b[39mchannel)\n",
      "\u001b[1;32mc:\\Users\\quang\\Desktop\\chominh\\s2t_GCP_Final\\Funtion_Task\\test_thread.ipynb Cell 11\u001b[0m in \u001b[0;36mframe_rate_channel\u001b[1;34m(audio_file_name)\u001b[0m\n\u001b[0;32m      <a href='vscode-notebook-cell:/c%3A/Users/quang/Desktop/chominh/s2t_GCP_Final/Funtion_Task/test_thread.ipynb#ch0000010?line=0'>1</a>\u001b[0m \u001b[39mdef\u001b[39;00m \u001b[39mframe_rate_channel\u001b[39m(audio_file_name):\n\u001b[1;32m----> <a href='vscode-notebook-cell:/c%3A/Users/quang/Desktop/chominh/s2t_GCP_Final/Funtion_Task/test_thread.ipynb#ch0000010?line=1'>2</a>\u001b[0m     \u001b[39mwith\u001b[39;00m wave\u001b[39m.\u001b[39;49mopen(audio_file_name, \u001b[39m'\u001b[39;49m\u001b[39mrb\u001b[39;49m\u001b[39m'\u001b[39;49m) \u001b[39mas\u001b[39;00m wave_file:\n\u001b[0;32m      <a href='vscode-notebook-cell:/c%3A/Users/quang/Desktop/chominh/s2t_GCP_Final/Funtion_Task/test_thread.ipynb#ch0000010?line=2'>3</a>\u001b[0m         frame_rate \u001b[39m=\u001b[39m wave_file\u001b[39m.\u001b[39mgetframerate()\n\u001b[0;32m      <a href='vscode-notebook-cell:/c%3A/Users/quang/Desktop/chominh/s2t_GCP_Final/Funtion_Task/test_thread.ipynb#ch0000010?line=3'>4</a>\u001b[0m         channels \u001b[39m=\u001b[39m wave_file\u001b[39m.\u001b[39mgetnchannels()\n",
      "File \u001b[1;32mc:\\Users\\quang\\anaconda3\\envs\\tf\\lib\\wave.py:509\u001b[0m, in \u001b[0;36mopen\u001b[1;34m(f, mode)\u001b[0m\n\u001b[0;32m    507\u001b[0m         mode \u001b[39m=\u001b[39m \u001b[39m'\u001b[39m\u001b[39mrb\u001b[39m\u001b[39m'\u001b[39m\n\u001b[0;32m    508\u001b[0m \u001b[39mif\u001b[39;00m mode \u001b[39min\u001b[39;00m (\u001b[39m'\u001b[39m\u001b[39mr\u001b[39m\u001b[39m'\u001b[39m, \u001b[39m'\u001b[39m\u001b[39mrb\u001b[39m\u001b[39m'\u001b[39m):\n\u001b[1;32m--> 509\u001b[0m     \u001b[39mreturn\u001b[39;00m Wave_read(f)\n\u001b[0;32m    510\u001b[0m \u001b[39melif\u001b[39;00m mode \u001b[39min\u001b[39;00m (\u001b[39m'\u001b[39m\u001b[39mw\u001b[39m\u001b[39m'\u001b[39m, \u001b[39m'\u001b[39m\u001b[39mwb\u001b[39m\u001b[39m'\u001b[39m):\n\u001b[0;32m    511\u001b[0m     \u001b[39mreturn\u001b[39;00m Wave_write(f)\n",
      "File \u001b[1;32mc:\\Users\\quang\\anaconda3\\envs\\tf\\lib\\wave.py:159\u001b[0m, in \u001b[0;36mWave_read.__init__\u001b[1;34m(self, f)\u001b[0m\n\u001b[0;32m    157\u001b[0m \u001b[39mself\u001b[39m\u001b[39m.\u001b[39m_i_opened_the_file \u001b[39m=\u001b[39m \u001b[39mNone\u001b[39;00m\n\u001b[0;32m    158\u001b[0m \u001b[39mif\u001b[39;00m \u001b[39misinstance\u001b[39m(f, \u001b[39mstr\u001b[39m):\n\u001b[1;32m--> 159\u001b[0m     f \u001b[39m=\u001b[39m builtins\u001b[39m.\u001b[39;49mopen(f, \u001b[39m'\u001b[39;49m\u001b[39mrb\u001b[39;49m\u001b[39m'\u001b[39;49m)\n\u001b[0;32m    160\u001b[0m     \u001b[39mself\u001b[39m\u001b[39m.\u001b[39m_i_opened_the_file \u001b[39m=\u001b[39m f\n\u001b[0;32m    161\u001b[0m \u001b[39m# else, assume it is an open file object already\u001b[39;00m\n",
      "\u001b[1;31mFileNotFoundError\u001b[0m: [Errno 2] No such file or directory: 'c'"
     ]
    }
   ],
   "source": [
    "text_multithread(path)"
   ]
  },
  {
   "cell_type": "code",
   "execution_count": null,
   "metadata": {},
   "outputs": [],
   "source": []
  }
 ],
 "metadata": {
  "kernelspec": {
   "display_name": "Python 3.9.12 ('tf')",
   "language": "python",
   "name": "python3"
  },
  "language_info": {
   "codemirror_mode": {
    "name": "ipython",
    "version": 3
   },
   "file_extension": ".py",
   "mimetype": "text/x-python",
   "name": "python",
   "nbconvert_exporter": "python",
   "pygments_lexer": "ipython3",
   "version": "3.9.12"
  },
  "orig_nbformat": 4,
  "vscode": {
   "interpreter": {
    "hash": "7fbd390e9db12f1f88249519e66a2540d8040e508680c02062c369ca99705beb"
   }
  }
 },
 "nbformat": 4,
 "nbformat_minor": 2
}
